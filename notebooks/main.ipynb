{
 "cells": [
  {
   "cell_type": "code",
   "execution_count": 1,
   "id": "ac2ed67a",
   "metadata": {},
   "outputs": [
    {
     "name": "stdout",
     "output_type": "stream",
     "text": [
      "CWD: /Users/oliver/Desktop/BitcoinGraphClassification\n"
     ]
    }
   ],
   "source": [
    "import sys\n",
    "import os\n",
    "sys.path.append(os.path.abspath(\"..\"))\n",
    "os.chdir(\"..\") \n",
    "print(\"CWD:\", os.getcwd()) "
   ]
  },
  {
   "cell_type": "code",
   "execution_count": 2,
   "id": "8a765b4f",
   "metadata": {},
   "outputs": [
    {
     "name": "stdout",
     "output_type": "stream",
     "text": [
      "['Data', '__builtins__', '__cached__', '__doc__', '__file__', '__loader__', '__name__', '__package__', '__spec__', 'load_wallet_graph_combined', 'np', 'os', 'pd', 'torch']\n"
     ]
    }
   ],
   "source": [
    "import src.data_loader\n",
    "print(dir(src.data_loader))"
   ]
  },
  {
   "cell_type": "code",
   "execution_count": 3,
   "id": "4ef81f16",
   "metadata": {},
   "outputs": [
    {
     "name": "stdout",
     "output_type": "stream",
     "text": [
      "['.DS_Store', 'AddrAddr_edgelist.csv', 'wallets_features_classes_combined.csv']\n"
     ]
    }
   ],
   "source": [
    "print(os.listdir(\"data/raw\"))"
   ]
  },
  {
   "cell_type": "code",
   "execution_count": 4,
   "id": "b26b4c27",
   "metadata": {},
   "outputs": [
    {
     "name": "stdout",
     "output_type": "stream",
     "text": [
      "Data(x=[1268260, 56], edge_index=[2, 2868963], y=[1268260])\n",
      "Feature shape: torch.Size([1268260, 56])\n",
      "Label counts: tensor([338871,  28601])\n"
     ]
    }
   ],
   "source": [
    "from src.data_loader import load_wallet_graph_combined\n",
    "import torch\n",
    "\n",
    "data = load_wallet_graph_combined(\"data/raw\")\n",
    "\n",
    "print(data)\n",
    "print(\"Feature shape:\", data.x.shape)\n",
    "print(\"Label counts:\", torch.bincount(data.y[data.y >= 0]))\n"
   ]
  },
  {
   "cell_type": "code",
   "execution_count": 5,
   "id": "2ae952d0",
   "metadata": {},
   "outputs": [
    {
     "name": "stdout",
     "output_type": "stream",
     "text": [
      "GCN(\n",
      "  (conv1): GCNConv(56, 64)\n",
      "  (conv2): GCNConv(64, 2)\n",
      ")\n",
      "Output shape: torch.Size([1268260, 2])\n"
     ]
    }
   ],
   "source": [
    "from src.gcn import GCN\n",
    "\n",
    "model = GCN(in_channels=data.x.shape[1], hidden_channels=64, out_channels=2)\n",
    "print(model)\n",
    "\n",
    "out = model(data.x, data.edge_index)\n",
    "print(\"Output shape:\", out.shape)\n"
   ]
  },
  {
   "cell_type": "code",
   "execution_count": 6,
   "id": "47b792bd",
   "metadata": {},
   "outputs": [
    {
     "name": "stdout",
     "output_type": "stream",
     "text": [
      "Label counts: tensor([338871,  28601])\n"
     ]
    }
   ],
   "source": [
    "data = load_wallet_graph_combined(\"data/raw\")\n",
    "print(\"Label counts:\", torch.bincount(data.y[data.y >= 0]))\n"
   ]
  },
  {
   "cell_type": "code",
   "execution_count": 7,
   "id": "26a67bf3",
   "metadata": {},
   "outputs": [
    {
     "name": "stdout",
     "output_type": "stream",
     "text": [
      "class\n",
      "3    900788\n",
      "2    338871\n",
      "1     28601\n",
      "Name: count, dtype: int64\n"
     ]
    },
    {
     "data": {
      "text/plain": [
       "True"
      ]
     },
     "execution_count": 7,
     "metadata": {},
     "output_type": "execute_result"
    }
   ],
   "source": [
    "import pandas as pd\n",
    "df = pd.read_csv(\"data/raw/wallets_features_classes_combined.csv\")\n",
    "print(df['class'].value_counts())\n",
    "data.y.dtype == torch.long"
   ]
  },
  {
   "cell_type": "code",
   "execution_count": null,
   "id": "b0d803d2",
   "metadata": {},
   "outputs": [
    {
     "name": "stdout",
     "output_type": "stream",
     "text": [
      "\n",
      "Training GCN\n",
      "Epoch 001 | Loss: 100391.2891 | Acc: 0.9243 | F1: 0.4803 | PR-AUC: 0.0757\n",
      "Epoch 002 | Loss: 80832.8516 | Acc: 0.6400 | F1: 0.4103 | PR-AUC: 0.0706\n",
      "Epoch 003 | Loss: 66049.0547 | Acc: 0.4930 | F1: 0.3607 | PR-AUC: 0.0669\n",
      "Epoch 004 | Loss: 60295.1641 | Acc: 0.2876 | F1: 0.2686 | PR-AUC: 0.0817\n",
      "Epoch 005 | Loss: 59299.7930 | Acc: 0.2569 | F1: 0.2451 | PR-AUC: 0.0816\n",
      "Epoch 006 | Loss: 60449.4023 | Acc: 0.2422 | F1: 0.2331 | PR-AUC: 0.0810\n",
      "Epoch 007 | Loss: 57084.7305 | Acc: 0.2362 | F1: 0.2284 | PR-AUC: 0.0817\n",
      "Epoch 008 | Loss: 56345.2734 | Acc: 0.2369 | F1: 0.2290 | PR-AUC: 0.0818\n",
      "Epoch 009 | Loss: 53291.8359 | Acc: 0.2508 | F1: 0.2407 | PR-AUC: 0.0829\n",
      "Epoch 010 | Loss: 50145.4062 | Acc: 0.3251 | F1: 0.2989 | PR-AUC: 0.0882\n",
      "Epoch 011 | Loss: 46321.5820 | Acc: 0.4345 | F1: 0.3752 | PR-AUC: 0.0982\n",
      "Epoch 012 | Loss: 42491.6875 | Acc: 0.7442 | F1: 0.5643 | PR-AUC: 0.1461\n",
      "Epoch 013 | Loss: 41047.7891 | Acc: 0.7878 | F1: 0.5870 | PR-AUC: 0.1497\n",
      "Epoch 014 | Loss: 39478.6562 | Acc: 0.8065 | F1: 0.5956 | PR-AUC: 0.1497\n",
      "Epoch 015 | Loss: 39600.5977 | Acc: 0.8155 | F1: 0.5994 | PR-AUC: 0.1494\n",
      "Epoch 016 | Loss: 39328.5703 | Acc: 0.8147 | F1: 0.5987 | PR-AUC: 0.1490\n",
      "Epoch 017 | Loss: 38394.3398 | Acc: 0.8030 | F1: 0.5944 | PR-AUC: 0.1503\n",
      "Epoch 018 | Loss: 37105.0508 | Acc: 0.7904 | F1: 0.5865 | PR-AUC: 0.1473\n",
      "Epoch 019 | Loss: 35850.6016 | Acc: 0.7715 | F1: 0.5763 | PR-AUC: 0.1451\n",
      "Epoch 020 | Loss: 33410.9883 | Acc: 0.7466 | F1: 0.5651 | PR-AUC: 0.1455\n",
      "Epoch 021 | Loss: 32567.6133 | Acc: 0.7215 | F1: 0.5523 | PR-AUC: 0.1440\n",
      "Epoch 022 | Loss: 31480.6914 | Acc: 0.6991 | F1: 0.5395 | PR-AUC: 0.1405\n",
      "Epoch 023 | Loss: 31089.0762 | Acc: 0.6852 | F1: 0.5315 | PR-AUC: 0.1383\n",
      "Epoch 024 | Loss: 30631.3047 | Acc: 0.6792 | F1: 0.5280 | PR-AUC: 0.1372\n",
      "Epoch 025 | Loss: 29505.7793 | Acc: 0.6807 | F1: 0.5290 | PR-AUC: 0.1377\n",
      "Epoch 026 | Loss: 29668.5410 | Acc: 0.6892 | F1: 0.5343 | PR-AUC: 0.1397\n",
      "Epoch 027 | Loss: 28071.9062 | Acc: 0.7009 | F1: 0.5416 | PR-AUC: 0.1424\n",
      "Epoch 028 | Loss: 27502.2500 | Acc: 0.7195 | F1: 0.5533 | PR-AUC: 0.1470\n",
      "Epoch 029 | Loss: 25970.6465 | Acc: 0.7344 | F1: 0.5617 | PR-AUC: 0.1491\n",
      "Epoch 030 | Loss: 25209.0859 | Acc: 0.7507 | F1: 0.5685 | PR-AUC: 0.1478\n",
      "\n",
      "Training GraphSAGE\n",
      "Epoch 001 | Loss: 0.7924 | Acc: 0.0758 | F1: 0.0704 | PR-AUC: 0.1109\n",
      "Epoch 002 | Loss: 0.7613 | Acc: 0.0764 | F1: 0.0712 | PR-AUC: 0.2042\n",
      "Epoch 003 | Loss: 0.6022 | Acc: 0.2648 | F1: 0.2539 | PR-AUC: 0.2060\n",
      "Epoch 004 | Loss: 0.6169 | Acc: 0.2163 | F1: 0.2126 | PR-AUC: 0.2166\n",
      "Epoch 005 | Loss: 0.6100 | Acc: 0.1445 | F1: 0.1445 | PR-AUC: 0.2343\n",
      "Epoch 006 | Loss: 0.5726 | Acc: 0.2547 | F1: 0.2454 | PR-AUC: 0.2191\n",
      "Epoch 007 | Loss: 0.5527 | Acc: 0.2693 | F1: 0.2576 | PR-AUC: 0.1958\n",
      "Epoch 008 | Loss: 0.5532 | Acc: 0.2704 | F1: 0.2585 | PR-AUC: 0.1864\n",
      "Epoch 009 | Loss: 0.5553 | Acc: 0.2785 | F1: 0.2651 | PR-AUC: 0.1891\n",
      "Epoch 010 | Loss: 0.5499 | Acc: 0.2919 | F1: 0.2759 | PR-AUC: 0.1986\n",
      "Epoch 011 | Loss: 0.5331 | Acc: 0.3188 | F1: 0.2971 | PR-AUC: 0.2136\n",
      "Epoch 012 | Loss: 0.5306 | Acc: 0.3426 | F1: 0.3154 | PR-AUC: 0.2297\n",
      "Epoch 013 | Loss: 0.5234 | Acc: 0.3572 | F1: 0.3263 | PR-AUC: 0.2413\n",
      "Epoch 014 | Loss: 0.5253 | Acc: 0.3667 | F1: 0.3333 | PR-AUC: 0.2470\n",
      "Epoch 015 | Loss: 0.5263 | Acc: 0.3734 | F1: 0.3381 | PR-AUC: 0.2478\n",
      "Epoch 016 | Loss: 0.5172 | Acc: 0.3708 | F1: 0.3361 | PR-AUC: 0.2463\n",
      "Epoch 017 | Loss: 0.5160 | Acc: 0.3637 | F1: 0.3310 | PR-AUC: 0.2436\n",
      "Epoch 018 | Loss: 0.5084 | Acc: 0.3597 | F1: 0.3279 | PR-AUC: 0.2415\n",
      "Epoch 019 | Loss: 0.5087 | Acc: 0.3574 | F1: 0.3261 | PR-AUC: 0.2412\n",
      "Epoch 020 | Loss: 0.5080 | Acc: 0.3584 | F1: 0.3268 | PR-AUC: 0.2444\n",
      "Epoch 021 | Loss: 0.5021 | Acc: 0.3613 | F1: 0.3290 | PR-AUC: 0.2503\n",
      "Epoch 022 | Loss: 0.5030 | Acc: 0.3638 | F1: 0.3308 | PR-AUC: 0.2577\n",
      "Epoch 023 | Loss: 0.5018 | Acc: 0.3717 | F1: 0.3366 | PR-AUC: 0.2652\n",
      "Epoch 024 | Loss: 0.4994 | Acc: 0.3795 | F1: 0.3424 | PR-AUC: 0.2712\n",
      "Epoch 025 | Loss: 0.4994 | Acc: 0.3931 | F1: 0.3522 | PR-AUC: 0.2753\n",
      "Epoch 026 | Loss: 0.4979 | Acc: 0.4059 | F1: 0.3613 | PR-AUC: 0.2776\n",
      "Epoch 027 | Loss: 0.4940 | Acc: 0.4173 | F1: 0.3692 | PR-AUC: 0.2768\n",
      "Epoch 028 | Loss: 0.4943 | Acc: 0.4298 | F1: 0.3778 | PR-AUC: 0.2750\n",
      "Epoch 029 | Loss: 0.4949 | Acc: 0.4452 | F1: 0.3884 | PR-AUC: 0.2734\n",
      "Epoch 030 | Loss: 0.4903 | Acc: 0.4591 | F1: 0.3975 | PR-AUC: 0.2727\n",
      "Epoch 031 | Loss: 0.4887 | Acc: 0.4847 | F1: 0.4146 | PR-AUC: 0.2744\n",
      "Epoch 032 | Loss: 0.4878 | Acc: 0.5224 | F1: 0.4389 | PR-AUC: 0.2784\n",
      "Epoch 033 | Loss: 0.4907 | Acc: 0.5659 | F1: 0.4671 | PR-AUC: 0.2840\n",
      "Epoch 034 | Loss: 0.4851 | Acc: 0.6096 | F1: 0.4912 | PR-AUC: 0.2900\n",
      "Epoch 035 | Loss: 0.4873 | Acc: 0.6271 | F1: 0.5024 | PR-AUC: 0.2949\n",
      "Epoch 036 | Loss: 0.4849 | Acc: 0.6471 | F1: 0.5155 | PR-AUC: 0.2983\n",
      "Epoch 037 | Loss: 0.4870 | Acc: 0.6625 | F1: 0.5255 | PR-AUC: 0.3007\n",
      "Epoch 038 | Loss: 0.4825 | Acc: 0.6894 | F1: 0.5439 | PR-AUC: 0.3028\n",
      "Epoch 039 | Loss: 0.4821 | Acc: 0.7036 | F1: 0.5536 | PR-AUC: 0.3044\n",
      "Epoch 040 | Loss: 0.4810 | Acc: 0.7137 | F1: 0.5601 | PR-AUC: 0.3054\n",
      "Epoch 041 | Loss: 0.4805 | Acc: 0.7228 | F1: 0.5664 | PR-AUC: 0.3064\n",
      "Epoch 042 | Loss: 0.4811 | Acc: 0.7321 | F1: 0.5731 | PR-AUC: 0.3077\n",
      "Epoch 043 | Loss: 0.4799 | Acc: 0.7381 | F1: 0.5774 | PR-AUC: 0.3090\n",
      "Epoch 044 | Loss: 0.4784 | Acc: 0.7446 | F1: 0.5823 | PR-AUC: 0.3104\n",
      "Epoch 045 | Loss: 0.4771 | Acc: 0.7495 | F1: 0.5857 | PR-AUC: 0.3112\n",
      "Epoch 046 | Loss: 0.4754 | Acc: 0.7526 | F1: 0.5879 | PR-AUC: 0.3112\n",
      "Epoch 047 | Loss: 0.4757 | Acc: 0.7554 | F1: 0.5902 | PR-AUC: 0.3106\n",
      "Epoch 048 | Loss: 0.4750 | Acc: 0.7552 | F1: 0.5901 | PR-AUC: 0.3091\n",
      "Epoch 049 | Loss: 0.4756 | Acc: 0.7545 | F1: 0.5896 | PR-AUC: 0.3075\n",
      "Epoch 050 | Loss: 0.4720 | Acc: 0.7565 | F1: 0.5910 | PR-AUC: 0.3074\n",
      "Epoch 051 | Loss: 0.4743 | Acc: 0.7616 | F1: 0.5947 | PR-AUC: 0.3095\n",
      "Epoch 052 | Loss: 0.4724 | Acc: 0.7668 | F1: 0.5987 | PR-AUC: 0.3113\n",
      "Epoch 053 | Loss: 0.4724 | Acc: 0.7710 | F1: 0.6021 | PR-AUC: 0.3149\n",
      "Epoch 054 | Loss: 0.4706 | Acc: 0.7752 | F1: 0.6053 | PR-AUC: 0.3210\n",
      "Epoch 055 | Loss: 0.4693 | Acc: 0.7778 | F1: 0.6072 | PR-AUC: 0.3206\n",
      "Epoch 056 | Loss: 0.4683 | Acc: 0.7823 | F1: 0.6105 | PR-AUC: 0.3207\n",
      "Epoch 057 | Loss: 0.4681 | Acc: 0.7886 | F1: 0.6156 | PR-AUC: 0.3213\n",
      "Epoch 058 | Loss: 0.4668 | Acc: 0.8295 | F1: 0.6416 | PR-AUC: 0.3215\n",
      "Epoch 059 | Loss: 0.4663 | Acc: 0.8415 | F1: 0.6326 | PR-AUC: 0.3220\n",
      "Epoch 060 | Loss: 0.4663 | Acc: 0.8444 | F1: 0.6197 | PR-AUC: 0.3218\n",
      "Epoch 061 | Loss: 0.4655 | Acc: 0.8466 | F1: 0.6213 | PR-AUC: 0.3214\n",
      "Epoch 062 | Loss: 0.4646 | Acc: 0.8475 | F1: 0.6212 | PR-AUC: 0.3210\n",
      "Epoch 063 | Loss: 0.4650 | Acc: 0.8492 | F1: 0.6220 | PR-AUC: 0.3210\n",
      "Epoch 064 | Loss: 0.4649 | Acc: 0.8527 | F1: 0.6226 | PR-AUC: 0.3221\n",
      "Epoch 065 | Loss: 0.4639 | Acc: 0.8550 | F1: 0.6189 | PR-AUC: 0.3226\n",
      "Epoch 066 | Loss: 0.4616 | Acc: 0.8579 | F1: 0.6198 | PR-AUC: 0.3225\n",
      "Epoch 067 | Loss: 0.4631 | Acc: 0.8605 | F1: 0.6201 | PR-AUC: 0.3221\n",
      "Epoch 068 | Loss: 0.4633 | Acc: 0.8629 | F1: 0.6193 | PR-AUC: 0.3228\n",
      "Epoch 069 | Loss: 0.4598 | Acc: 0.8668 | F1: 0.6230 | PR-AUC: 0.3235\n",
      "Epoch 070 | Loss: 0.4608 | Acc: 0.8687 | F1: 0.6273 | PR-AUC: 0.3243\n",
      "Epoch 071 | Loss: 0.4612 | Acc: 0.8715 | F1: 0.6325 | PR-AUC: 0.3276\n",
      "Epoch 072 | Loss: 0.4606 | Acc: 0.8725 | F1: 0.6347 | PR-AUC: 0.3300\n",
      "Epoch 073 | Loss: 0.4588 | Acc: 0.8716 | F1: 0.6344 | PR-AUC: 0.3299\n",
      "Epoch 074 | Loss: 0.4583 | Acc: 0.8723 | F1: 0.6415 | PR-AUC: 0.3296\n",
      "Epoch 075 | Loss: 0.4575 | Acc: 0.8724 | F1: 0.6439 | PR-AUC: 0.3291\n",
      "Epoch 076 | Loss: 0.4574 | Acc: 0.8720 | F1: 0.6436 | PR-AUC: 0.3289\n",
      "Epoch 077 | Loss: 0.4573 | Acc: 0.8723 | F1: 0.6439 | PR-AUC: 0.3292\n",
      "Epoch 078 | Loss: 0.4569 | Acc: 0.8725 | F1: 0.6441 | PR-AUC: 0.3285\n",
      "Epoch 079 | Loss: 0.4553 | Acc: 0.8726 | F1: 0.6442 | PR-AUC: 0.3262\n",
      "Epoch 080 | Loss: 0.4538 | Acc: 0.8729 | F1: 0.6445 | PR-AUC: 0.3248\n",
      "Epoch 081 | Loss: 0.4540 | Acc: 0.8729 | F1: 0.6450 | PR-AUC: 0.3243\n",
      "Epoch 082 | Loss: 0.4544 | Acc: 0.8734 | F1: 0.6465 | PR-AUC: 0.3269\n",
      "Epoch 083 | Loss: 0.4532 | Acc: 0.8741 | F1: 0.6476 | PR-AUC: 0.3298\n",
      "Epoch 084 | Loss: 0.4535 | Acc: 0.8733 | F1: 0.6470 | PR-AUC: 0.3314\n",
      "Epoch 085 | Loss: 0.4522 | Acc: 0.8729 | F1: 0.6468 | PR-AUC: 0.3311\n",
      "Epoch 086 | Loss: 0.4526 | Acc: 0.8708 | F1: 0.6513 | PR-AUC: 0.3301\n",
      "Epoch 087 | Loss: 0.4530 | Acc: 0.8702 | F1: 0.6545 | PR-AUC: 0.3332\n",
      "Epoch 088 | Loss: 0.4536 | Acc: 0.8718 | F1: 0.6628 | PR-AUC: 0.3359\n",
      "Epoch 089 | Loss: 0.4525 | Acc: 0.8700 | F1: 0.6607 | PR-AUC: 0.3368\n",
      "Epoch 090 | Loss: 0.4530 | Acc: 0.8674 | F1: 0.6629 | PR-AUC: 0.3385\n",
      "Epoch 091 | Loss: 0.4504 | Acc: 0.8644 | F1: 0.6674 | PR-AUC: 0.3435\n",
      "Epoch 092 | Loss: 0.4518 | Acc: 0.8677 | F1: 0.6762 | PR-AUC: 0.3539\n",
      "Epoch 093 | Loss: 0.4517 | Acc: 0.8665 | F1: 0.6762 | PR-AUC: 0.3600\n",
      "Epoch 094 | Loss: 0.4503 | Acc: 0.8608 | F1: 0.6707 | PR-AUC: 0.3599\n",
      "Epoch 095 | Loss: 0.4520 | Acc: 0.8547 | F1: 0.6669 | PR-AUC: 0.3610\n",
      "Epoch 096 | Loss: 0.4486 | Acc: 0.8501 | F1: 0.6631 | PR-AUC: 0.3645\n",
      "Epoch 097 | Loss: 0.4480 | Acc: 0.8460 | F1: 0.6627 | PR-AUC: 0.3692\n",
      "Epoch 098 | Loss: 0.4483 | Acc: 0.8419 | F1: 0.6587 | PR-AUC: 0.3730\n",
      "Epoch 099 | Loss: 0.4487 | Acc: 0.8417 | F1: 0.6585 | PR-AUC: 0.3755\n",
      "Epoch 100 | Loss: 0.4495 | Acc: 0.8425 | F1: 0.6595 | PR-AUC: 0.3792\n"
     ]
    }
   ],
   "source": [
    "import random\n",
    "import pandas as pd\n",
    "import numpy as np\n",
    "import torch\n",
    "from src.gcn import GCN\n",
    "from src.graphsage import GraphSAGE\n",
    "from src.train import train, evaluate\n",
    "from src.utils import FocalLoss  \n",
    "\n",
    "def set_seed(seed=420):\n",
    "    torch.manual_seed(seed)\n",
    "    np.random.seed(seed)\n",
    "    random.seed(seed)\n",
    "    if torch.cuda.is_available():\n",
    "        torch.cuda.manual_seed_all(seed)\n",
    "\n",
    "set_seed()\n",
    "\n",
    "device = torch.device(\"cuda\" if torch.cuda.is_available() else \"cpu\")\n",
    "data = data.to(device)\n",
    "\n",
    "# Compute class weights from label distribution\n",
    "label_counts = torch.bincount(data.y[data.y >= 0])\n",
    "class_weights = 1.0 / label_counts.float()\n",
    "class_weights = class_weights / class_weights.sum()  # normalite\n",
    "\n",
    "results = {}\n",
    "\n",
    "# Split known labels into train/val sets\n",
    "labeled_nodes = (data.y >= 0).nonzero(as_tuple=False).view(-1)\n",
    "num_labeled = len(labeled_nodes)\n",
    "\n",
    "perm = torch.randperm(num_labeled)\n",
    "num_train = int(0.8 * num_labeled)\n",
    "\n",
    "train_mask = torch.zeros(data.num_nodes, dtype=torch.bool)\n",
    "val_mask = torch.zeros(data.num_nodes, dtype=torch.bool)\n",
    "\n",
    "train_mask[labeled_nodes[perm[:num_train]]] = True\n",
    "val_mask[labeled_nodes[perm[num_train:]]] = True\n",
    "\n",
    "for model_name, Model in {\"GCN\": GCN, \"GraphSAGE\": GraphSAGE}.items():\n",
    "    print(f\"\\nTraining {model_name}\")\n",
    "\n",
    "    if model_name == \"GraphSAGE\":\n",
    "        model = Model(\n",
    "            in_channels=data.x.shape[1],\n",
    "            hidden_channels=128,\n",
    "            out_channels=2,\n",
    "            num_layers=3,\n",
    "            dropout=0.4\n",
    "        ).to(device)\n",
    "        max_epochs = 100\n",
    "    else:\n",
    "        model = Model(\n",
    "            in_channels=data.x.shape[1],\n",
    "            hidden_channels=64,\n",
    "            out_channels=2\n",
    "        ).to(device)\n",
    "        max_epochs = 30  # Early stop for GCN\n",
    "\n",
    "    # for now i use CrossEntropyLoss for both models\n",
    "    criterion = torch.nn.CrossEntropyLoss(weight=class_weights.to(device))\n",
    "\n",
    "    optimizer = torch.optim.Adam(model.parameters(), lr=0.003, weight_decay=1e-4)\n",
    "\n",
    "    log = {\"epoch\": [], \"loss\": [], \"acc\": [], \"f1\": []}\n",
    "\n",
    "    for epoch in range(1, max_epochs + 1):\n",
    "        loss = train(model, data, optimizer, train_mask, criterion)\n",
    "        acc, f1, pr_auc = evaluate(model, data, val_mask)\n",
    "        print(f\"Epoch {epoch:03d} | Loss: {loss:.4f} | Acc: {acc:.4f} | F1: {f1:.4f} | PR-AUC: {pr_auc:.4f}\")\n",
    "\n",
    "        log[\"epoch\"].append(epoch)\n",
    "        log[\"loss\"].append(loss)\n",
    "        log[\"acc\"].append(acc)\n",
    "        log[\"f1\"].append(f1)\n",
    "\n",
    "    results[model_name] = pd.DataFrame(log)\n",
    "    results[model_name].to_csv(f\"results/results_{model_name}.csv\", index=False)\n"
   ]
  },
  {
   "cell_type": "code",
   "execution_count": 12,
   "id": "b328580e",
   "metadata": {},
   "outputs": [
    {
     "data": {
      "image/png": "[encoded data removed]",
      "text/plain": [
       "<Figure size 600x600 with 2 Axes>"
      ]
     },
     "metadata": {},
     "output_type": "display_data"
    }
   ],
   "source": [
    "\n",
    "from sklearn.metrics import confusion_matrix, ConfusionMatrixDisplay\n",
    "import matplotlib.pyplot as plt\n",
    "\n",
    "# Get model predictions on the validation set\n",
    "model.eval()\n",
    "with torch.no_grad():\n",
    "    out = model(data.x, data.edge_index)\n",
    "    preds = out[val_mask].argmax(dim=1).cpu().numpy()\n",
    "    true = data.y[val_mask].cpu().numpy()\n",
    "\n",
    "# Compute confusion matrix\n",
    "cm = confusion_matrix(true, preds, normalize='true')\n",
    "\n",
    "# Plot confusion matrix\n",
    "disp = ConfusionMatrixDisplay(confusion_matrix=cm)\n",
    "fig, ax = plt.subplots(figsize=(6, 6))\n",
    "disp.plot(cmap='Blues', ax=ax)\n",
    "plt.title(\"GraphSAGE: Confusion Matrix (Validation Set)\")\n",
    "plt.tight_layout()\n",
    "plt.show()\n"
   ]
  },
  {
   "cell_type": "code",
   "execution_count": 8,
   "id": "b1779a70",
   "metadata": {},
   "outputs": [
    {
     "name": "stdout",
     "output_type": "stream",
     "text": [
      "Using device: cpu\n"
     ]
    }
   ],
   "source": [
    "device = torch.device(\"cuda\" if torch.cuda.is_available() else \"cpu\")\n",
    "print(\"Using device:\", device)"
   ]
  },
  {
   "cell_type": "code",
   "execution_count": 14,
   "id": "bea8db31",
   "metadata": {},
   "outputs": [
    {
     "data": {
      "image/png": "[encoded data removed]",
      "text/plain": [
       "<Figure size 600x600 with 1 Axes>"
      ]
     },
     "metadata": {},
     "output_type": "display_data"
    }
   ],
   "source": [
    "from sklearn.metrics import precision_recall_curve, average_precision_score\n",
    "\n",
    "# Ensure your model is in eval mode and on correct device\n",
    "model.eval()\n",
    "with torch.no_grad():\n",
    "    out = model(data.x, data.edge_index)\n",
    "    prob = torch.softmax(out[val_mask], dim=1)[:, 1].cpu().numpy()\n",
    "    true = data.y[val_mask].cpu().numpy()\n",
    "\n",
    "# Compute Precision-Recall curve\n",
    "precision, recall, _ = precision_recall_curve(true, prob)\n",
    "pr_auc = average_precision_score(true, prob)\n",
    "\n",
    "# Plotting\n",
    "plt.figure(figsize=(6, 6))\n",
    "plt.plot(recall, precision, label=f\"PR-AUC = {pr_auc:.4f}\")\n",
    "plt.xlabel(\"Recall\")\n",
    "plt.ylabel(\"Precision\")\n",
    "plt.title(\"GraphSAGE: Precision-Recall Curve (Validation Set)\")\n",
    "plt.legend()\n",
    "plt.grid(True)\n",
    "plt.tight_layout()\n",
    "plt.show()\n"
   ]
  }
 ],
 "metadata": {
  "kernelspec": {
   "display_name": ".venv",
   "language": "python",
   "name": "python3"
  },
  "language_info": {
   "codemirror_mode": {
    "name": "ipython",
    "version": 3
   },
   "file_extension": ".py",
   "mimetype": "text/x-python",
   "name": "python",
   "nbconvert_exporter": "python",
   "pygments_lexer": "ipython3",
   "version": "3.13.3"
  }
 },
 "nbformat": 4,
 "nbformat_minor": 5
}
